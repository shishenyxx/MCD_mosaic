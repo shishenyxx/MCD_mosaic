{
 "cells": [
  {
   "cell_type": "code",
   "execution_count": 37,
   "id": "19899a95",
   "metadata": {},
   "outputs": [
    {
     "name": "stderr",
     "output_type": "stream",
     "text": [
      "Warning message:\n",
      "“package ‘reshape’ was built under R version 4.0.5”\n"
     ]
    }
   ],
   "source": [
    "library(gplots)\n",
    "library(reshape)"
   ]
  },
  {
   "cell_type": "code",
   "execution_count": 19,
   "id": "48f3f0f6",
   "metadata": {},
   "outputs": [],
   "source": [
    "df <- read.csv(\"./clinical_association/Supplementary Table 4.csv\",header = TRUE, sep =\",\", stringsAsFactors=T)"
   ]
  },
  {
   "cell_type": "code",
   "execution_count": 20,
   "id": "2939550d",
   "metadata": {},
   "outputs": [
    {
     "data": {
      "text/html": [
       "<style>\n",
       ".list-inline {list-style: none; margin:0; padding: 0}\n",
       ".list-inline>li {display: inline-block}\n",
       ".list-inline>li:not(:last-child)::after {content: \"\\00b7\"; padding: 0 .5ex}\n",
       "</style>\n",
       "<ol class=list-inline><li>'GID'</li><li>'Family_ID'</li><li>'Gene'</li><li>'Hit'</li><li>'MTOR_pathway'</li><li>'MAPK_pathway'</li><li>'WNT_signaling'</li><li>'NFkB_pathway'</li><li>'Cytoskeleton'</li><li>'Synaptic_function'</li><li>'Neurite'</li><li>'Glycosylation'</li><li>'Neuronal_migration'</li><li>'Calcium_dynamics'</li><li>'Immune'</li><li>'Gene_expression'</li><li>'Ubiquitination'</li><li>'Lysosome'</li><li>'Cytoplasm'</li><li>'ECM'</li><li>'Golgi'</li><li>'ER'</li><li>'Mitochondria'</li><li>'Plasma_membrane'</li><li>'Nucleus'</li><li>'COSMIC'</li><li>'SEX'</li><li>'Type'</li><li>'Balloon_cell'</li><li>'Sleep_seizures'</li><li>'History_of_infantile_spasm'</li><li>'History_of_focal_seizure'</li><li>'Abnormal_neurological_examination'</li><li>'Abnormal_neuropsychological_examination'</li><li>'PET_hypometabolism'</li><li>'Developmental_delay'</li><li>'Developmental_delay_binary'</li><li>'Engel_score_1'</li><li>'Engel_score_2'</li><li>'Engel_scoreI_II'</li><li>'Engel_score_3'</li><li>'Engel_score_4'</li><li>'Nuclei_size'</li><li>'Cell_body_size'</li><li>'Nu.cell_size_ratio'</li><li>'Seizure_onset'</li><li>'Seizure_mean_duration'</li><li>'Seizure_frequency'</li><li>'Dysplastic_neuron'</li><li>'HME'</li><li>'TypeI'</li><li>'TypeIIA'</li><li>'TypeIIB'</li><li>'TypeIII'</li></ol>\n"
      ],
      "text/latex": [
       "\\begin{enumerate*}\n",
       "\\item 'GID'\n",
       "\\item 'Family\\_ID'\n",
       "\\item 'Gene'\n",
       "\\item 'Hit'\n",
       "\\item 'MTOR\\_pathway'\n",
       "\\item 'MAPK\\_pathway'\n",
       "\\item 'WNT\\_signaling'\n",
       "\\item 'NFkB\\_pathway'\n",
       "\\item 'Cytoskeleton'\n",
       "\\item 'Synaptic\\_function'\n",
       "\\item 'Neurite'\n",
       "\\item 'Glycosylation'\n",
       "\\item 'Neuronal\\_migration'\n",
       "\\item 'Calcium\\_dynamics'\n",
       "\\item 'Immune'\n",
       "\\item 'Gene\\_expression'\n",
       "\\item 'Ubiquitination'\n",
       "\\item 'Lysosome'\n",
       "\\item 'Cytoplasm'\n",
       "\\item 'ECM'\n",
       "\\item 'Golgi'\n",
       "\\item 'ER'\n",
       "\\item 'Mitochondria'\n",
       "\\item 'Plasma\\_membrane'\n",
       "\\item 'Nucleus'\n",
       "\\item 'COSMIC'\n",
       "\\item 'SEX'\n",
       "\\item 'Type'\n",
       "\\item 'Balloon\\_cell'\n",
       "\\item 'Sleep\\_seizures'\n",
       "\\item 'History\\_of\\_infantile\\_spasm'\n",
       "\\item 'History\\_of\\_focal\\_seizure'\n",
       "\\item 'Abnormal\\_neurological\\_examination'\n",
       "\\item 'Abnormal\\_neuropsychological\\_examination'\n",
       "\\item 'PET\\_hypometabolism'\n",
       "\\item 'Developmental\\_delay'\n",
       "\\item 'Developmental\\_delay\\_binary'\n",
       "\\item 'Engel\\_score\\_1'\n",
       "\\item 'Engel\\_score\\_2'\n",
       "\\item 'Engel\\_scoreI\\_II'\n",
       "\\item 'Engel\\_score\\_3'\n",
       "\\item 'Engel\\_score\\_4'\n",
       "\\item 'Nuclei\\_size'\n",
       "\\item 'Cell\\_body\\_size'\n",
       "\\item 'Nu.cell\\_size\\_ratio'\n",
       "\\item 'Seizure\\_onset'\n",
       "\\item 'Seizure\\_mean\\_duration'\n",
       "\\item 'Seizure\\_frequency'\n",
       "\\item 'Dysplastic\\_neuron'\n",
       "\\item 'HME'\n",
       "\\item 'TypeI'\n",
       "\\item 'TypeIIA'\n",
       "\\item 'TypeIIB'\n",
       "\\item 'TypeIII'\n",
       "\\end{enumerate*}\n"
      ],
      "text/markdown": [
       "1. 'GID'\n",
       "2. 'Family_ID'\n",
       "3. 'Gene'\n",
       "4. 'Hit'\n",
       "5. 'MTOR_pathway'\n",
       "6. 'MAPK_pathway'\n",
       "7. 'WNT_signaling'\n",
       "8. 'NFkB_pathway'\n",
       "9. 'Cytoskeleton'\n",
       "10. 'Synaptic_function'\n",
       "11. 'Neurite'\n",
       "12. 'Glycosylation'\n",
       "13. 'Neuronal_migration'\n",
       "14. 'Calcium_dynamics'\n",
       "15. 'Immune'\n",
       "16. 'Gene_expression'\n",
       "17. 'Ubiquitination'\n",
       "18. 'Lysosome'\n",
       "19. 'Cytoplasm'\n",
       "20. 'ECM'\n",
       "21. 'Golgi'\n",
       "22. 'ER'\n",
       "23. 'Mitochondria'\n",
       "24. 'Plasma_membrane'\n",
       "25. 'Nucleus'\n",
       "26. 'COSMIC'\n",
       "27. 'SEX'\n",
       "28. 'Type'\n",
       "29. 'Balloon_cell'\n",
       "30. 'Sleep_seizures'\n",
       "31. 'History_of_infantile_spasm'\n",
       "32. 'History_of_focal_seizure'\n",
       "33. 'Abnormal_neurological_examination'\n",
       "34. 'Abnormal_neuropsychological_examination'\n",
       "35. 'PET_hypometabolism'\n",
       "36. 'Developmental_delay'\n",
       "37. 'Developmental_delay_binary'\n",
       "38. 'Engel_score_1'\n",
       "39. 'Engel_score_2'\n",
       "40. 'Engel_scoreI_II'\n",
       "41. 'Engel_score_3'\n",
       "42. 'Engel_score_4'\n",
       "43. 'Nuclei_size'\n",
       "44. 'Cell_body_size'\n",
       "45. 'Nu.cell_size_ratio'\n",
       "46. 'Seizure_onset'\n",
       "47. 'Seizure_mean_duration'\n",
       "48. 'Seizure_frequency'\n",
       "49. 'Dysplastic_neuron'\n",
       "50. 'HME'\n",
       "51. 'TypeI'\n",
       "52. 'TypeIIA'\n",
       "53. 'TypeIIB'\n",
       "54. 'TypeIII'\n",
       "\n",
       "\n"
      ],
      "text/plain": [
       " [1] \"GID\"                                    \n",
       " [2] \"Family_ID\"                              \n",
       " [3] \"Gene\"                                   \n",
       " [4] \"Hit\"                                    \n",
       " [5] \"MTOR_pathway\"                           \n",
       " [6] \"MAPK_pathway\"                           \n",
       " [7] \"WNT_signaling\"                          \n",
       " [8] \"NFkB_pathway\"                           \n",
       " [9] \"Cytoskeleton\"                           \n",
       "[10] \"Synaptic_function\"                      \n",
       "[11] \"Neurite\"                                \n",
       "[12] \"Glycosylation\"                          \n",
       "[13] \"Neuronal_migration\"                     \n",
       "[14] \"Calcium_dynamics\"                       \n",
       "[15] \"Immune\"                                 \n",
       "[16] \"Gene_expression\"                        \n",
       "[17] \"Ubiquitination\"                         \n",
       "[18] \"Lysosome\"                               \n",
       "[19] \"Cytoplasm\"                              \n",
       "[20] \"ECM\"                                    \n",
       "[21] \"Golgi\"                                  \n",
       "[22] \"ER\"                                     \n",
       "[23] \"Mitochondria\"                           \n",
       "[24] \"Plasma_membrane\"                        \n",
       "[25] \"Nucleus\"                                \n",
       "[26] \"COSMIC\"                                 \n",
       "[27] \"SEX\"                                    \n",
       "[28] \"Type\"                                   \n",
       "[29] \"Balloon_cell\"                           \n",
       "[30] \"Sleep_seizures\"                         \n",
       "[31] \"History_of_infantile_spasm\"             \n",
       "[32] \"History_of_focal_seizure\"               \n",
       "[33] \"Abnormal_neurological_examination\"      \n",
       "[34] \"Abnormal_neuropsychological_examination\"\n",
       "[35] \"PET_hypometabolism\"                     \n",
       "[36] \"Developmental_delay\"                    \n",
       "[37] \"Developmental_delay_binary\"             \n",
       "[38] \"Engel_score_1\"                          \n",
       "[39] \"Engel_score_2\"                          \n",
       "[40] \"Engel_scoreI_II\"                        \n",
       "[41] \"Engel_score_3\"                          \n",
       "[42] \"Engel_score_4\"                          \n",
       "[43] \"Nuclei_size\"                            \n",
       "[44] \"Cell_body_size\"                         \n",
       "[45] \"Nu.cell_size_ratio\"                     \n",
       "[46] \"Seizure_onset\"                          \n",
       "[47] \"Seizure_mean_duration\"                  \n",
       "[48] \"Seizure_frequency\"                      \n",
       "[49] \"Dysplastic_neuron\"                      \n",
       "[50] \"HME\"                                    \n",
       "[51] \"TypeI\"                                  \n",
       "[52] \"TypeIIA\"                                \n",
       "[53] \"TypeIIB\"                                \n",
       "[54] \"TypeIII\"                                "
      ]
     },
     "metadata": {},
     "output_type": "display_data"
    },
    {
     "data": {
      "text/html": [
       "'Immune'"
      ],
      "text/latex": [
       "'Immune'"
      ],
      "text/markdown": [
       "'Immune'"
      ],
      "text/plain": [
       "[1] \"Immune\""
      ]
     },
     "metadata": {},
     "output_type": "display_data"
    }
   ],
   "source": [
    "colnames(df)\n",
    "colnames(df)[15]"
   ]
  },
  {
   "cell_type": "code",
   "execution_count": 21,
   "id": "da5d7f53",
   "metadata": {},
   "outputs": [],
   "source": [
    "colname<-colnames(df)"
   ]
  },
  {
   "cell_type": "code",
   "execution_count": 22,
   "id": "09b250b6",
   "metadata": {},
   "outputs": [
    {
     "data": {
      "text/html": [
       "<style>\n",
       ".list-inline {list-style: none; margin:0; padding: 0}\n",
       ".list-inline>li {display: inline-block}\n",
       ".list-inline>li:not(:last-child)::after {content: \"\\00b7\"; padding: 0 .5ex}\n",
       "</style>\n",
       "<ol class=list-inline><li>'MTOR_pathway'</li><li>'MAPK_pathway'</li><li>'NFkB_pathway'</li><li>'Synaptic_function'</li><li>'Neurite'</li><li>'Glycosylation'</li><li>'Neuronal_migration'</li><li>'Calcium_dynamics'</li><li>'Immune'</li><li>'Gene_expression'</li><li>'Ubiquitination'</li><li>'Lysosome'</li><li>'COSMIC'</li></ol>\n"
      ],
      "text/latex": [
       "\\begin{enumerate*}\n",
       "\\item 'MTOR\\_pathway'\n",
       "\\item 'MAPK\\_pathway'\n",
       "\\item 'NFkB\\_pathway'\n",
       "\\item 'Synaptic\\_function'\n",
       "\\item 'Neurite'\n",
       "\\item 'Glycosylation'\n",
       "\\item 'Neuronal\\_migration'\n",
       "\\item 'Calcium\\_dynamics'\n",
       "\\item 'Immune'\n",
       "\\item 'Gene\\_expression'\n",
       "\\item 'Ubiquitination'\n",
       "\\item 'Lysosome'\n",
       "\\item 'COSMIC'\n",
       "\\end{enumerate*}\n"
      ],
      "text/markdown": [
       "1. 'MTOR_pathway'\n",
       "2. 'MAPK_pathway'\n",
       "3. 'NFkB_pathway'\n",
       "4. 'Synaptic_function'\n",
       "5. 'Neurite'\n",
       "6. 'Glycosylation'\n",
       "7. 'Neuronal_migration'\n",
       "8. 'Calcium_dynamics'\n",
       "9. 'Immune'\n",
       "10. 'Gene_expression'\n",
       "11. 'Ubiquitination'\n",
       "12. 'Lysosome'\n",
       "13. 'COSMIC'\n",
       "\n",
       "\n"
      ],
      "text/plain": [
       " [1] \"MTOR_pathway\"       \"MAPK_pathway\"       \"NFkB_pathway\"      \n",
       " [4] \"Synaptic_function\"  \"Neurite\"            \"Glycosylation\"     \n",
       " [7] \"Neuronal_migration\" \"Calcium_dynamics\"   \"Immune\"            \n",
       "[10] \"Gene_expression\"    \"Ubiquitination\"     \"Lysosome\"          \n",
       "[13] \"COSMIC\"            "
      ]
     },
     "metadata": {},
     "output_type": "display_data"
    },
    {
     "data": {
      "text/html": [
       "<style>\n",
       ".list-inline {list-style: none; margin:0; padding: 0}\n",
       ".list-inline>li {display: inline-block}\n",
       ".list-inline>li:not(:last-child)::after {content: \"\\00b7\"; padding: 0 .5ex}\n",
       "</style>\n",
       "<ol class=list-inline><li>'HME'</li><li>'TypeI'</li><li>'TypeIIA'</li><li>'TypeIIB'</li><li>'TypeIII'</li></ol>\n"
      ],
      "text/latex": [
       "\\begin{enumerate*}\n",
       "\\item 'HME'\n",
       "\\item 'TypeI'\n",
       "\\item 'TypeIIA'\n",
       "\\item 'TypeIIB'\n",
       "\\item 'TypeIII'\n",
       "\\end{enumerate*}\n"
      ],
      "text/markdown": [
       "1. 'HME'\n",
       "2. 'TypeI'\n",
       "3. 'TypeIIA'\n",
       "4. 'TypeIIB'\n",
       "5. 'TypeIII'\n",
       "\n",
       "\n"
      ],
      "text/plain": [
       "[1] \"HME\"     \"TypeI\"   \"TypeIIA\" \"TypeIIB\" \"TypeIII\""
      ]
     },
     "metadata": {},
     "output_type": "display_data"
    }
   ],
   "source": [
    "gene_group<-colname[c(5:6,8,10:18,26)]\n",
    "phenotype<-colname[c(50:54)]\n",
    "gene_group\n",
    "phenotype"
   ]
  },
  {
   "cell_type": "code",
   "execution_count": 23,
   "id": "1260465c",
   "metadata": {},
   "outputs": [],
   "source": [
    "pearson_phi <-matrix(ncol=length(phenotype),nrow=length(gene_group))\n",
    "pearson_pval <-matrix(ncol=length(phenotype),nrow=length(gene_group))"
   ]
  },
  {
   "cell_type": "code",
   "execution_count": 24,
   "id": "9526b5d4",
   "metadata": {},
   "outputs": [
    {
     "data": {
      "text/html": [
       "<table class=\"dataframe\">\n",
       "<caption>A matrix: 13 × 5 of type lgl</caption>\n",
       "<tbody>\n",
       "\t<tr><td>NA</td><td>NA</td><td>NA</td><td>NA</td><td>NA</td></tr>\n",
       "\t<tr><td>NA</td><td>NA</td><td>NA</td><td>NA</td><td>NA</td></tr>\n",
       "\t<tr><td>NA</td><td>NA</td><td>NA</td><td>NA</td><td>NA</td></tr>\n",
       "\t<tr><td>NA</td><td>NA</td><td>NA</td><td>NA</td><td>NA</td></tr>\n",
       "\t<tr><td>NA</td><td>NA</td><td>NA</td><td>NA</td><td>NA</td></tr>\n",
       "\t<tr><td>NA</td><td>NA</td><td>NA</td><td>NA</td><td>NA</td></tr>\n",
       "\t<tr><td>NA</td><td>NA</td><td>NA</td><td>NA</td><td>NA</td></tr>\n",
       "\t<tr><td>NA</td><td>NA</td><td>NA</td><td>NA</td><td>NA</td></tr>\n",
       "\t<tr><td>NA</td><td>NA</td><td>NA</td><td>NA</td><td>NA</td></tr>\n",
       "\t<tr><td>NA</td><td>NA</td><td>NA</td><td>NA</td><td>NA</td></tr>\n",
       "\t<tr><td>NA</td><td>NA</td><td>NA</td><td>NA</td><td>NA</td></tr>\n",
       "\t<tr><td>NA</td><td>NA</td><td>NA</td><td>NA</td><td>NA</td></tr>\n",
       "\t<tr><td>NA</td><td>NA</td><td>NA</td><td>NA</td><td>NA</td></tr>\n",
       "</tbody>\n",
       "</table>\n"
      ],
      "text/latex": [
       "A matrix: 13 × 5 of type lgl\n",
       "\\begin{tabular}{lllll}\n",
       "\t NA & NA & NA & NA & NA\\\\\n",
       "\t NA & NA & NA & NA & NA\\\\\n",
       "\t NA & NA & NA & NA & NA\\\\\n",
       "\t NA & NA & NA & NA & NA\\\\\n",
       "\t NA & NA & NA & NA & NA\\\\\n",
       "\t NA & NA & NA & NA & NA\\\\\n",
       "\t NA & NA & NA & NA & NA\\\\\n",
       "\t NA & NA & NA & NA & NA\\\\\n",
       "\t NA & NA & NA & NA & NA\\\\\n",
       "\t NA & NA & NA & NA & NA\\\\\n",
       "\t NA & NA & NA & NA & NA\\\\\n",
       "\t NA & NA & NA & NA & NA\\\\\n",
       "\t NA & NA & NA & NA & NA\\\\\n",
       "\\end{tabular}\n"
      ],
      "text/markdown": [
       "\n",
       "A matrix: 13 × 5 of type lgl\n",
       "\n",
       "| NA | NA | NA | NA | NA |\n",
       "| NA | NA | NA | NA | NA |\n",
       "| NA | NA | NA | NA | NA |\n",
       "| NA | NA | NA | NA | NA |\n",
       "| NA | NA | NA | NA | NA |\n",
       "| NA | NA | NA | NA | NA |\n",
       "| NA | NA | NA | NA | NA |\n",
       "| NA | NA | NA | NA | NA |\n",
       "| NA | NA | NA | NA | NA |\n",
       "| NA | NA | NA | NA | NA |\n",
       "| NA | NA | NA | NA | NA |\n",
       "| NA | NA | NA | NA | NA |\n",
       "| NA | NA | NA | NA | NA |\n",
       "\n"
      ],
      "text/plain": [
       "      [,1] [,2] [,3] [,4] [,5]\n",
       " [1,] NA   NA   NA   NA   NA  \n",
       " [2,] NA   NA   NA   NA   NA  \n",
       " [3,] NA   NA   NA   NA   NA  \n",
       " [4,] NA   NA   NA   NA   NA  \n",
       " [5,] NA   NA   NA   NA   NA  \n",
       " [6,] NA   NA   NA   NA   NA  \n",
       " [7,] NA   NA   NA   NA   NA  \n",
       " [8,] NA   NA   NA   NA   NA  \n",
       " [9,] NA   NA   NA   NA   NA  \n",
       "[10,] NA   NA   NA   NA   NA  \n",
       "[11,] NA   NA   NA   NA   NA  \n",
       "[12,] NA   NA   NA   NA   NA  \n",
       "[13,] NA   NA   NA   NA   NA  "
      ]
     },
     "metadata": {},
     "output_type": "display_data"
    }
   ],
   "source": [
    "pearson_phi"
   ]
  },
  {
   "cell_type": "code",
   "execution_count": 25,
   "id": "fa6dfa9b",
   "metadata": {
    "scrolled": true
   },
   "outputs": [],
   "source": [
    "a<-cbind(df[,gene_group[2]],df[,phenotype[2]])\n",
    "b<-cor.test(a[,1], a[,2])"
   ]
  },
  {
   "cell_type": "code",
   "execution_count": 26,
   "id": "ea515ab7",
   "metadata": {},
   "outputs": [
    {
     "data": {
      "text/plain": [
       "\n",
       "\tPearson's product-moment correlation\n",
       "\n",
       "data:  a[, 1] and a[, 2]\n",
       "t = 1.185, df = 66, p-value = 0.2403\n",
       "alternative hypothesis: true correlation is not equal to 0\n",
       "95 percent confidence interval:\n",
       " -0.09744082  0.37002861\n",
       "sample estimates:\n",
       "      cor \n",
       "0.1443376 \n"
      ]
     },
     "metadata": {},
     "output_type": "display_data"
    }
   ],
   "source": [
    "b"
   ]
  },
  {
   "cell_type": "code",
   "execution_count": 27,
   "id": "7d200911",
   "metadata": {},
   "outputs": [],
   "source": [
    "for (i in 1:length(gene_group)) {\n",
    "    for (j in 1:length(phenotype)) {\n",
    "        a<-na.omit(cbind(df[,gene_group[i]], df[,phenotype[j]]))\n",
    "        pearson.test<-cor.test(a[,1], a[,2])\n",
    "        pearson_phi[i,j]<- pearson.test$estimate\n",
    "        pearson_pval[i,j]<- pearson.test$p.value\n",
    "    }\n",
    "}"
   ]
  },
  {
   "cell_type": "code",
   "execution_count": 28,
   "id": "dbc96537",
   "metadata": {},
   "outputs": [
    {
     "data": {
      "text/html": [
       "<table class=\"dataframe\">\n",
       "<caption>A matrix: 13 × 5 of type dbl</caption>\n",
       "<tbody>\n",
       "\t<tr><td> 0.24270120</td><td>-0.44459062</td><td> 0.335165894</td><td> 0.21144801</td><td>-0.22213083</td></tr>\n",
       "\t<tr><td> 0.03560446</td><td> 0.14433757</td><td>-0.172891019</td><td>-0.18463724</td><td> 0.46875000</td></tr>\n",
       "\t<tr><td> 0.10759415</td><td> 0.17960530</td><td> 0.006519259</td><td>-0.12125793</td><td>-0.07777138</td></tr>\n",
       "\t<tr><td>-0.06053269</td><td>-0.04199605</td><td> 0.192069377</td><td>-0.07162871</td><td>-0.12729377</td></tr>\n",
       "\t<tr><td>-0.11871133</td><td>-0.35533453</td><td> 0.015477391</td><td> 0.42045455</td><td>-0.18463724</td></tr>\n",
       "\t<tr><td>-0.14577271</td><td> 0.53881591</td><td>-0.215135562</td><td>-0.22975187</td><td>-0.07777138</td></tr>\n",
       "\t<tr><td> 0.14341154</td><td>-0.14433757</td><td> 0.094304192</td><td> 0.07693218</td><td>-0.06250000</td></tr>\n",
       "\t<tr><td>-0.15864086</td><td>-0.08381981</td><td> 0.076061662</td><td> 0.05361133</td><td>-0.08468844</td></tr>\n",
       "\t<tr><td>-0.15583334</td><td>-0.23890440</td><td> 0.014008099</td><td> 0.30560754</td><td>-0.16710934</td></tr>\n",
       "\t<tr><td>-0.02142620</td><td>-0.01960784</td><td>-0.036297700</td><td>-0.21320072</td><td> 0.43301270</td></tr>\n",
       "\t<tr><td> 0.28116211</td><td> 0.14433757</td><td>-0.039293413</td><td>-0.05385253</td><td>-0.06250000</td></tr>\n",
       "\t<tr><td>-0.01283490</td><td>-0.46852129</td><td> 0.145497876</td><td> 0.40695549</td><td>-0.20287567</td></tr>\n",
       "\t<tr><td> 0.13692818</td><td>-0.44459062</td><td> 0.234616126</td><td> 0.22238497</td><td>-0.02961744</td></tr>\n",
       "</tbody>\n",
       "</table>\n"
      ],
      "text/latex": [
       "A matrix: 13 × 5 of type dbl\n",
       "\\begin{tabular}{lllll}\n",
       "\t  0.24270120 & -0.44459062 &  0.335165894 &  0.21144801 & -0.22213083\\\\\n",
       "\t  0.03560446 &  0.14433757 & -0.172891019 & -0.18463724 &  0.46875000\\\\\n",
       "\t  0.10759415 &  0.17960530 &  0.006519259 & -0.12125793 & -0.07777138\\\\\n",
       "\t -0.06053269 & -0.04199605 &  0.192069377 & -0.07162871 & -0.12729377\\\\\n",
       "\t -0.11871133 & -0.35533453 &  0.015477391 &  0.42045455 & -0.18463724\\\\\n",
       "\t -0.14577271 &  0.53881591 & -0.215135562 & -0.22975187 & -0.07777138\\\\\n",
       "\t  0.14341154 & -0.14433757 &  0.094304192 &  0.07693218 & -0.06250000\\\\\n",
       "\t -0.15864086 & -0.08381981 &  0.076061662 &  0.05361133 & -0.08468844\\\\\n",
       "\t -0.15583334 & -0.23890440 &  0.014008099 &  0.30560754 & -0.16710934\\\\\n",
       "\t -0.02142620 & -0.01960784 & -0.036297700 & -0.21320072 &  0.43301270\\\\\n",
       "\t  0.28116211 &  0.14433757 & -0.039293413 & -0.05385253 & -0.06250000\\\\\n",
       "\t -0.01283490 & -0.46852129 &  0.145497876 &  0.40695549 & -0.20287567\\\\\n",
       "\t  0.13692818 & -0.44459062 &  0.234616126 &  0.22238497 & -0.02961744\\\\\n",
       "\\end{tabular}\n"
      ],
      "text/markdown": [
       "\n",
       "A matrix: 13 × 5 of type dbl\n",
       "\n",
       "|  0.24270120 | -0.44459062 |  0.335165894 |  0.21144801 | -0.22213083 |\n",
       "|  0.03560446 |  0.14433757 | -0.172891019 | -0.18463724 |  0.46875000 |\n",
       "|  0.10759415 |  0.17960530 |  0.006519259 | -0.12125793 | -0.07777138 |\n",
       "| -0.06053269 | -0.04199605 |  0.192069377 | -0.07162871 | -0.12729377 |\n",
       "| -0.11871133 | -0.35533453 |  0.015477391 |  0.42045455 | -0.18463724 |\n",
       "| -0.14577271 |  0.53881591 | -0.215135562 | -0.22975187 | -0.07777138 |\n",
       "|  0.14341154 | -0.14433757 |  0.094304192 |  0.07693218 | -0.06250000 |\n",
       "| -0.15864086 | -0.08381981 |  0.076061662 |  0.05361133 | -0.08468844 |\n",
       "| -0.15583334 | -0.23890440 |  0.014008099 |  0.30560754 | -0.16710934 |\n",
       "| -0.02142620 | -0.01960784 | -0.036297700 | -0.21320072 |  0.43301270 |\n",
       "|  0.28116211 |  0.14433757 | -0.039293413 | -0.05385253 | -0.06250000 |\n",
       "| -0.01283490 | -0.46852129 |  0.145497876 |  0.40695549 | -0.20287567 |\n",
       "|  0.13692818 | -0.44459062 |  0.234616126 |  0.22238497 | -0.02961744 |\n",
       "\n"
      ],
      "text/plain": [
       "      [,1]        [,2]        [,3]         [,4]        [,5]       \n",
       " [1,]  0.24270120 -0.44459062  0.335165894  0.21144801 -0.22213083\n",
       " [2,]  0.03560446  0.14433757 -0.172891019 -0.18463724  0.46875000\n",
       " [3,]  0.10759415  0.17960530  0.006519259 -0.12125793 -0.07777138\n",
       " [4,] -0.06053269 -0.04199605  0.192069377 -0.07162871 -0.12729377\n",
       " [5,] -0.11871133 -0.35533453  0.015477391  0.42045455 -0.18463724\n",
       " [6,] -0.14577271  0.53881591 -0.215135562 -0.22975187 -0.07777138\n",
       " [7,]  0.14341154 -0.14433757  0.094304192  0.07693218 -0.06250000\n",
       " [8,] -0.15864086 -0.08381981  0.076061662  0.05361133 -0.08468844\n",
       " [9,] -0.15583334 -0.23890440  0.014008099  0.30560754 -0.16710934\n",
       "[10,] -0.02142620 -0.01960784 -0.036297700 -0.21320072  0.43301270\n",
       "[11,]  0.28116211  0.14433757 -0.039293413 -0.05385253 -0.06250000\n",
       "[12,] -0.01283490 -0.46852129  0.145497876  0.40695549 -0.20287567\n",
       "[13,]  0.13692818 -0.44459062  0.234616126  0.22238497 -0.02961744"
      ]
     },
     "metadata": {},
     "output_type": "display_data"
    }
   ],
   "source": [
    "pearson_phi"
   ]
  },
  {
   "cell_type": "code",
   "execution_count": 29,
   "id": "d8076b92",
   "metadata": {},
   "outputs": [],
   "source": [
    "colnames(pearson_phi)<-phenotype\n",
    "rownames(pearson_phi)<-gene_group\n",
    "colnames(pearson_pval)<-phenotype\n",
    "rownames(pearson_pval)<-gene_group"
   ]
  },
  {
   "cell_type": "code",
   "execution_count": 30,
   "id": "15bc1db7",
   "metadata": {},
   "outputs": [
    {
     "data": {
      "image/png": "[encoded data removed]",
      "text/plain": [
       "Plot with title “Color Key\n",
       "and Histogram”"
      ]
     },
     "metadata": {
      "image/png": {
       "height": 600,
       "width": 480
      }
     },
     "output_type": "display_data"
    }
   ],
   "source": [
    "options(repr.plot.width=8, repr.plot.height=10)\n",
    "heatmap.2(pearson_phi,scale=\"none\",trace=\"none\",col = colorRampPalette(c(\"darkblue\",\"white\",\"darkred\"))(100),\n",
    "          margins=c(15,16) \n",
    "#          , scale = c(\"column\")\n",
    "         )"
   ]
  },
  {
   "cell_type": "code",
   "execution_count": 35,
   "id": "ce4c3d50",
   "metadata": {},
   "outputs": [
    {
     "data": {
      "text/html": [
       "<strong>png:</strong> 2"
      ],
      "text/latex": [
       "\\textbf{png:} 2"
      ],
      "text/markdown": [
       "**png:** 2"
      ],
      "text/plain": [
       "png \n",
       "  2 "
      ]
     },
     "metadata": {},
     "output_type": "display_data"
    }
   ],
   "source": [
    "pdf(file = \"./clinical_association/Supplementary Table 4a_cor_heatmap.pdf\", width= 10, height=10)  # The directory you want to save the file in\n",
    "heatmap.2(pearson_phi,scale=\"none\",trace=\"none\",col = colorRampPalette(c(\"darkblue\",\"white\",\"darkred\"))(100),margins=c(15,16))\n",
    "dev.off()"
   ]
  },
  {
   "cell_type": "code",
   "execution_count": 32,
   "id": "31eda785",
   "metadata": {},
   "outputs": [
    {
     "data": {
      "text/html": [
       "<table class=\"dataframe\">\n",
       "<caption>A matrix: 13 × 5 of type dbl</caption>\n",
       "<thead>\n",
       "\t<tr><th></th><th scope=col>HME</th><th scope=col>TypeI</th><th scope=col>TypeIIA</th><th scope=col>TypeIIB</th><th scope=col>TypeIII</th></tr>\n",
       "</thead>\n",
       "<tbody>\n",
       "\t<tr><th scope=row>MTOR_pathway</th><td>0.03855619</td><td>1.456905e-04</td><td>0.005207471</td><td>0.0834609228</td><td>6.866830e-02</td></tr>\n",
       "\t<tr><th scope=row>MAPK_pathway</th><td>0.76490271</td><td>2.402618e-01</td><td>0.158567431</td><td>0.1317280780</td><td>5.538383e-05</td></tr>\n",
       "\t<tr><th scope=row>NFkB_pathway</th><td>0.36490829</td><td>1.427706e-01</td><td>0.957920705</td><td>0.3246137852</td><td>5.284426e-01</td></tr>\n",
       "\t<tr><th scope=row>Synaptic_function</th><td>0.61094022</td><td>7.338280e-01</td><td>0.116617915</td><td>0.5616037723</td><td>3.009279e-01</td></tr>\n",
       "\t<tr><th scope=row>Neurite</th><td>0.31716215</td><td>2.943913e-03</td><td>0.900308954</td><td>0.0003571643</td><td>1.317281e-01</td></tr>\n",
       "\t<tr><th scope=row>Glycosylation</th><td>0.21848316</td><td>2.136260e-06</td><td>0.078093526</td><td>0.0594629346</td><td>5.284426e-01</td></tr>\n",
       "\t<tr><th scope=row>Neuronal_migration</th><td>0.22611446</td><td>2.402618e-01</td><td>0.444306215</td><td>0.5329149015</td><td>6.126261e-01</td></tr>\n",
       "\t<tr><th scope=row>Calcium_dynamics</th><td>0.18006971</td><td>4.967713e-01</td><td>0.537573783</td><td>0.6641384273</td><td>4.923056e-01</td></tr>\n",
       "\t<tr><th scope=row>Immune</th><td>0.18799981</td><td>4.975736e-02</td><td>0.909731145</td><td>0.0112662537</td><td>1.731758e-01</td></tr>\n",
       "\t<tr><th scope=row>Gene_expression</th><td>0.85721030</td><td>8.738990e-01</td><td>0.768860271</td><td>0.0808744764</td><td>2.258761e-04</td></tr>\n",
       "\t<tr><th scope=row>Ubiquitination</th><td>0.01596946</td><td>2.402618e-01</td><td>0.750380737</td><td>0.6627185435</td><td>6.126261e-01</td></tr>\n",
       "\t<tr><th scope=row>Lysosome</th><td>0.91417567</td><td>5.591248e-05</td><td>0.236462834</td><td>0.0005732211</td><td>9.706679e-02</td></tr>\n",
       "\t<tr><th scope=row>COSMIC</th><td>0.24801957</td><td>1.456905e-04</td><td>0.054129542</td><td>0.0683438848</td><td>8.105192e-01</td></tr>\n",
       "</tbody>\n",
       "</table>\n"
      ],
      "text/latex": [
       "A matrix: 13 × 5 of type dbl\n",
       "\\begin{tabular}{r|lllll}\n",
       "  & HME & TypeI & TypeIIA & TypeIIB & TypeIII\\\\\n",
       "\\hline\n",
       "\tMTOR\\_pathway & 0.03855619 & 1.456905e-04 & 0.005207471 & 0.0834609228 & 6.866830e-02\\\\\n",
       "\tMAPK\\_pathway & 0.76490271 & 2.402618e-01 & 0.158567431 & 0.1317280780 & 5.538383e-05\\\\\n",
       "\tNFkB\\_pathway & 0.36490829 & 1.427706e-01 & 0.957920705 & 0.3246137852 & 5.284426e-01\\\\\n",
       "\tSynaptic\\_function & 0.61094022 & 7.338280e-01 & 0.116617915 & 0.5616037723 & 3.009279e-01\\\\\n",
       "\tNeurite & 0.31716215 & 2.943913e-03 & 0.900308954 & 0.0003571643 & 1.317281e-01\\\\\n",
       "\tGlycosylation & 0.21848316 & 2.136260e-06 & 0.078093526 & 0.0594629346 & 5.284426e-01\\\\\n",
       "\tNeuronal\\_migration & 0.22611446 & 2.402618e-01 & 0.444306215 & 0.5329149015 & 6.126261e-01\\\\\n",
       "\tCalcium\\_dynamics & 0.18006971 & 4.967713e-01 & 0.537573783 & 0.6641384273 & 4.923056e-01\\\\\n",
       "\tImmune & 0.18799981 & 4.975736e-02 & 0.909731145 & 0.0112662537 & 1.731758e-01\\\\\n",
       "\tGene\\_expression & 0.85721030 & 8.738990e-01 & 0.768860271 & 0.0808744764 & 2.258761e-04\\\\\n",
       "\tUbiquitination & 0.01596946 & 2.402618e-01 & 0.750380737 & 0.6627185435 & 6.126261e-01\\\\\n",
       "\tLysosome & 0.91417567 & 5.591248e-05 & 0.236462834 & 0.0005732211 & 9.706679e-02\\\\\n",
       "\tCOSMIC & 0.24801957 & 1.456905e-04 & 0.054129542 & 0.0683438848 & 8.105192e-01\\\\\n",
       "\\end{tabular}\n"
      ],
      "text/markdown": [
       "\n",
       "A matrix: 13 × 5 of type dbl\n",
       "\n",
       "| <!--/--> | HME | TypeI | TypeIIA | TypeIIB | TypeIII |\n",
       "|---|---|---|---|---|---|\n",
       "| MTOR_pathway | 0.03855619 | 1.456905e-04 | 0.005207471 | 0.0834609228 | 6.866830e-02 |\n",
       "| MAPK_pathway | 0.76490271 | 2.402618e-01 | 0.158567431 | 0.1317280780 | 5.538383e-05 |\n",
       "| NFkB_pathway | 0.36490829 | 1.427706e-01 | 0.957920705 | 0.3246137852 | 5.284426e-01 |\n",
       "| Synaptic_function | 0.61094022 | 7.338280e-01 | 0.116617915 | 0.5616037723 | 3.009279e-01 |\n",
       "| Neurite | 0.31716215 | 2.943913e-03 | 0.900308954 | 0.0003571643 | 1.317281e-01 |\n",
       "| Glycosylation | 0.21848316 | 2.136260e-06 | 0.078093526 | 0.0594629346 | 5.284426e-01 |\n",
       "| Neuronal_migration | 0.22611446 | 2.402618e-01 | 0.444306215 | 0.5329149015 | 6.126261e-01 |\n",
       "| Calcium_dynamics | 0.18006971 | 4.967713e-01 | 0.537573783 | 0.6641384273 | 4.923056e-01 |\n",
       "| Immune | 0.18799981 | 4.975736e-02 | 0.909731145 | 0.0112662537 | 1.731758e-01 |\n",
       "| Gene_expression | 0.85721030 | 8.738990e-01 | 0.768860271 | 0.0808744764 | 2.258761e-04 |\n",
       "| Ubiquitination | 0.01596946 | 2.402618e-01 | 0.750380737 | 0.6627185435 | 6.126261e-01 |\n",
       "| Lysosome | 0.91417567 | 5.591248e-05 | 0.236462834 | 0.0005732211 | 9.706679e-02 |\n",
       "| COSMIC | 0.24801957 | 1.456905e-04 | 0.054129542 | 0.0683438848 | 8.105192e-01 |\n",
       "\n"
      ],
      "text/plain": [
       "                   HME        TypeI        TypeIIA     TypeIIB     \n",
       "MTOR_pathway       0.03855619 1.456905e-04 0.005207471 0.0834609228\n",
       "MAPK_pathway       0.76490271 2.402618e-01 0.158567431 0.1317280780\n",
       "NFkB_pathway       0.36490829 1.427706e-01 0.957920705 0.3246137852\n",
       "Synaptic_function  0.61094022 7.338280e-01 0.116617915 0.5616037723\n",
       "Neurite            0.31716215 2.943913e-03 0.900308954 0.0003571643\n",
       "Glycosylation      0.21848316 2.136260e-06 0.078093526 0.0594629346\n",
       "Neuronal_migration 0.22611446 2.402618e-01 0.444306215 0.5329149015\n",
       "Calcium_dynamics   0.18006971 4.967713e-01 0.537573783 0.6641384273\n",
       "Immune             0.18799981 4.975736e-02 0.909731145 0.0112662537\n",
       "Gene_expression    0.85721030 8.738990e-01 0.768860271 0.0808744764\n",
       "Ubiquitination     0.01596946 2.402618e-01 0.750380737 0.6627185435\n",
       "Lysosome           0.91417567 5.591248e-05 0.236462834 0.0005732211\n",
       "COSMIC             0.24801957 1.456905e-04 0.054129542 0.0683438848\n",
       "                   TypeIII     \n",
       "MTOR_pathway       6.866830e-02\n",
       "MAPK_pathway       5.538383e-05\n",
       "NFkB_pathway       5.284426e-01\n",
       "Synaptic_function  3.009279e-01\n",
       "Neurite            1.317281e-01\n",
       "Glycosylation      5.284426e-01\n",
       "Neuronal_migration 6.126261e-01\n",
       "Calcium_dynamics   4.923056e-01\n",
       "Immune             1.731758e-01\n",
       "Gene_expression    2.258761e-04\n",
       "Ubiquitination     6.126261e-01\n",
       "Lysosome           9.706679e-02\n",
       "COSMIC             8.105192e-01"
      ]
     },
     "metadata": {},
     "output_type": "display_data"
    }
   ],
   "source": [
    "pearson_pval"
   ]
  },
  {
   "cell_type": "code",
   "execution_count": 39,
   "id": "df78d023",
   "metadata": {},
   "outputs": [],
   "source": [
    "pearson_pval_melt<-melt(pearson_pval)"
   ]
  },
  {
   "cell_type": "code",
   "execution_count": 41,
   "id": "1931645d",
   "metadata": {},
   "outputs": [],
   "source": [
    "write.csv(pearson_pval_melt,\"./clinical_association/2022-02-07_gene_to_ILEAtype_pearson_test_cor_heatmap_pval.csv\")"
   ]
  },
  {
   "cell_type": "code",
   "execution_count": null,
   "id": "d9fb28c4",
   "metadata": {},
   "outputs": [],
   "source": []
  },
  {
   "cell_type": "code",
   "execution_count": null,
   "id": "a395684d",
   "metadata": {},
   "outputs": [],
   "source": []
  }
 ],
 "metadata": {
  "kernelspec": {
   "display_name": "R",
   "language": "R",
   "name": "ir"
  },
  "language_info": {
   "codemirror_mode": "r",
   "file_extension": ".r",
   "mimetype": "text/x-r-source",
   "name": "R",
   "pygments_lexer": "r",
   "version": "4.0.5"
  }
 },
 "nbformat": 4,
 "nbformat_minor": 5
}
